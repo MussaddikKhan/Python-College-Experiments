{
  "cells": [
    {
      "cell_type": "markdown",
      "metadata": {
        "id": "view-in-github",
        "colab_type": "text"
      },
      "source": [
        "<a href=\"https://colab.research.google.com/github/MussaddikKhan/Python-College-Experiments/blob/master/FYMCA/Updated/Experiment_No_5.ipynb\" target=\"_parent\"><img src=\"https://colab.research.google.com/assets/colab-badge.svg\" alt=\"Open In Colab\"/></a>"
      ]
    },
    {
      "cell_type": "markdown",
      "source": [
        "#**Expeirment No 5:**\n",
        "**`Write a Python program to check whether a given string is a palindrome or not using a function.`**\n",
        "\n",
        "\n",
        "\n",
        "\n",
        "\n",
        "\n"
      ],
      "metadata": {
        "id": "dPh4Jjed01Ud"
      },
      "id": "dPh4Jjed01Ud"
    },
    {
      "cell_type": "code",
      "source": [
        "# Function to check if a string is a palindrome\n",
        "def is_palindrome(string):\n",
        "    # Remove spaces and convert the string to lowercase\n",
        "    string = string.replace(\" \", \"\").lower()\n",
        "    # Check if the string reads the same forward and backward\n",
        "    return string == string[::-1]\n",
        "\n",
        "# Prompt the user to enter a string\n",
        "user_input = input(\"Enter a string to check if it's a palindrome: \")\n",
        "\n",
        "# Check if the string is a palindrome\n",
        "if is_palindrome(user_input):\n",
        "    print(f\"'{user_input}' is a palindrome.\")\n",
        "else:\n",
        "    print(f\"'{user_input}' is not a palindrome.\")\n"
      ],
      "metadata": {
        "colab": {
          "base_uri": "https://localhost:8080/",
          "height": 0
        },
        "id": "Hbp7H8DO1Swm",
        "outputId": "6620eb8b-d935-412a-be0e-230a970c6f95"
      },
      "id": "Hbp7H8DO1Swm",
      "execution_count": 5,
      "outputs": [
        {
          "output_type": "stream",
          "name": "stdout",
          "text": [
            "Enter a string to check if it's a palindrome: Madam\n",
            "'Madam' is a palindrome.\n"
          ]
        }
      ]
    },
    {
      "cell_type": "markdown",
      "source": [
        "### Explanation:\n",
        "\n",
        "##### Function Definition:\n",
        "- **`def is_palindrome(string):`**  \n",
        "  This function checks whether the given string is a palindrome. It compares the string to its reverse and returns `True` if they match, and `False` otherwise.\n",
        "\n",
        "##### Normalization:\n",
        "- **`string.replace(\" \", \"\").lower()`**  \n",
        "  This removes any spaces from the string and converts it to lowercase. This ensures that variations in spacing or capitalization don’t affect the comparison.\n",
        "\n",
        "##### Reversal Check:\n",
        "- **`string[::-1]`**  \n",
        "  This slice reverses the string. The comparison `string == string[::-1]` checks whether the string reads the same forwards and backwards.\n",
        "\n",
        "##### User Input:\n",
        "- The program prompts the user to input a string.\n",
        "\n",
        "##### Result:\n",
        "- The result from `is_palindrome()` is used to print whether the string is a palindrome.\n"
      ],
      "metadata": {
        "id": "1nEOOhx39E0D"
      },
      "id": "1nEOOhx39E0D"
    }
  ],
  "metadata": {
    "kernelspec": {
      "display_name": "Python 3",
      "name": "python3"
    },
    "language_info": {
      "name": "python"
    },
    "required_libs": [],
    "colab": {
      "provenance": [],
      "include_colab_link": true
    }
  },
  "nbformat": 4,
  "nbformat_minor": 5
}