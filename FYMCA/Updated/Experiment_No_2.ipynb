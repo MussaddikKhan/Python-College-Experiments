{
  "cells": [
    {
      "cell_type": "markdown",
      "metadata": {
        "id": "view-in-github",
        "colab_type": "text"
      },
      "source": [
        "<a href=\"https://colab.research.google.com/github/MussaddikKhan/Python-College-Experiments/blob/master/FYMCA/Updated/Experiment_No_2.ipynb\" target=\"_parent\"><img src=\"https://colab.research.google.com/assets/colab-badge.svg\" alt=\"Open In Colab\"/></a>"
      ]
    },
    {
      "cell_type": "markdown",
      "source": [
        "#**Expeirment No 1:**\n",
        "***`Write a Python program that prompts the user to enter their age. Based on the age entered, the program should display one of the following messages:`***\n",
        "\n",
        "*  You are a child.\n",
        "*  You are an adult.\n",
        "*  You are a senior citizen.\n"
      ],
      "metadata": {
        "id": "dPh4Jjed01Ud"
      },
      "id": "dPh4Jjed01Ud"
    },
    {
      "cell_type": "code",
      "source": [
        "# Prompt the user to enter their age\n",
        "age = int(input(\"Enter your age: \"))\n",
        "\n",
        "# Check the age category and display the appropriate message\n",
        "if age < 18:\n",
        "    print(\"You are a child.\")\n",
        "elif 18 <= age < 60:\n",
        "    print(\"You are an adult.\")\n",
        "else:\n",
        "    print(\"You are a senior citizen.\")\n"
      ],
      "metadata": {
        "colab": {
          "base_uri": "https://localhost:8080/"
        },
        "id": "Hbp7H8DO1Swm",
        "outputId": "507704df-6222-4a7c-c3f8-77c967cc291f"
      },
      "id": "Hbp7H8DO1Swm",
      "execution_count": 2,
      "outputs": [
        {
          "output_type": "stream",
          "name": "stdout",
          "text": [
            "Enter your age: 22\n",
            "You are an adult.\n"
          ]
        }
      ]
    },
    {
      "cell_type": "markdown",
      "source": [
        "**Explanation:**\n",
        "`int(input(\"Enter your age: \")):`\n",
        "\n",
        "This takes the user input as a string and converts it into an integer using int().\n",
        "This ensures that the age entered is treated as a number for comparison.\n",
        "Conditional statements:\n",
        "\n",
        "`if age < 18:` If the age is less than 18, it prints \"You are a child.\"\n",
        "\n",
        "`elif 18 <= age < 60:` If the age is between 18 and 59 (inclusive), it prints \"You are an adult.\"\n",
        "\n",
        "`else:` If the age is 60 or above, it prints \"You are a senior citizen.\""
      ],
      "metadata": {
        "id": "2PDm9Q9K1rsG"
      },
      "id": "2PDm9Q9K1rsG"
    }
  ],
  "metadata": {
    "kernelspec": {
      "display_name": "Python 3",
      "name": "python3"
    },
    "language_info": {
      "name": "python"
    },
    "required_libs": [],
    "colab": {
      "provenance": [],
      "include_colab_link": true
    }
  },
  "nbformat": 4,
  "nbformat_minor": 5
}