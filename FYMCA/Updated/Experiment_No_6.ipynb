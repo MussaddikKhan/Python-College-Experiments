{
  "cells": [
    {
      "cell_type": "markdown",
      "metadata": {
        "id": "view-in-github",
        "colab_type": "text"
      },
      "source": [
        "<a href=\"https://colab.research.google.com/github/MussaddikKhan/Python-College-Experiments/blob/master/FYMCA/Updated/Experiment_No_6.ipynb\" target=\"_parent\"><img src=\"https://colab.research.google.com/assets/colab-badge.svg\" alt=\"Open In Colab\"/></a>"
      ]
    },
    {
      "cell_type": "markdown",
      "source": [
        "#**Expeirment No 6:**\n",
        "***`Create a Python class representing a bank account. The class should have methods to deposit money, withdraw money, and display the account balance.`***\n",
        "\n",
        "\n"
      ],
      "metadata": {
        "id": "dPh4Jjed01Ud"
      },
      "id": "dPh4Jjed01Ud"
    },
    {
      "cell_type": "code",
      "source": [
        "# Bank Account Class\n",
        "class BankAccount:\n",
        "    # Constructor to initialize account with a balance\n",
        "    def __init__(self, account_holder, initial_balance=0):\n",
        "        self.account_holder = account_holder\n",
        "        self.balance = initial_balance\n",
        "\n",
        "    # Method to deposit money into the account\n",
        "    def deposit(self, amount):\n",
        "        if amount > 0:\n",
        "            self.balance += amount\n",
        "            print(f\"Deposited: {amount}. New balance: {self.balance}\")\n",
        "        else:\n",
        "            print(\"Deposit amount must be positive.\")\n",
        "\n",
        "    # Method to withdraw money from the account\n",
        "    def withdraw(self, amount):\n",
        "        if amount > 0 and amount <= self.balance:\n",
        "            self.balance -= amount\n",
        "            print(f\"Withdrew: {amount}. New balance: {self.balance}\")\n",
        "        elif amount > self.balance:\n",
        "            print(\"Insufficient funds!\")\n",
        "        else:\n",
        "            print(\"Withdrawal amount must be positive.\")\n",
        "\n",
        "    # Method to display the current account balance\n",
        "    def display_balance(self):\n",
        "        print(f\"Account holder: {self.account_holder}\")\n",
        "        print(f\"Current balance: {self.balance}\")\n",
        "\n",
        "# Create an instance of BankAccount\n",
        "account = BankAccount(\"Alice\", 1000)\n",
        "\n",
        "# Perform operations\n",
        "account.deposit(500)\n",
        "account.withdraw(200)\n",
        "account.display_balance()\n"
      ],
      "metadata": {
        "colab": {
          "base_uri": "https://localhost:8080/",
          "height": 0
        },
        "id": "Hbp7H8DO1Swm",
        "outputId": "46a82cec-c757-4629-8319-31684f1fc5e0"
      },
      "id": "Hbp7H8DO1Swm",
      "execution_count": 6,
      "outputs": [
        {
          "output_type": "stream",
          "name": "stdout",
          "text": [
            "Deposited: 500. New balance: 1500\n",
            "Withdrew: 200. New balance: 1300\n",
            "Account holder: Alice\n",
            "Current balance: 1300\n"
          ]
        }
      ]
    },
    {
      "cell_type": "markdown",
      "source": [
        "### Explanation:\n",
        "\n",
        "###### Class Definition:\n",
        "- **`class BankAccount:`**  \n",
        "  This defines the `BankAccount` class, representing a bank account with attributes and methods related to managing an account.\n",
        "\n",
        "###### Constructor (`__init__`):\n",
        "- **`def __init__(self, account_holder, initial_balance=0):`**  \n",
        "  The constructor initializes the bank account with the account holder's name and an initial balance (default is 0).\n",
        "\n",
        "###### Deposit Method (`deposit`):\n",
        "- **`def deposit(self, amount):`**  \n",
        "  This method allows the user to deposit money into their account. If the amount is positive, it adds to the balance and displays the updated balance. If the amount is non-positive, it prompts the user to enter a valid amount.\n",
        "\n",
        "###### Withdraw Method (`withdraw`):\n",
        "- **`def withdraw(self, amount):`**  \n",
        "  This method allows the user to withdraw money from the account. It checks whether the withdrawal amount is positive and does not exceed the current balance. If sufficient funds are not available, it notifies the user of insufficient funds.\n",
        "\n",
        "###### Display Balance Method (`display_balance`):\n",
        "- **`def display_balance(self):`**  \n",
        "  This method prints the current account holder's name and their account balance.\n",
        "\n",
        "###### Example:\n",
        "1. The class is instantiated with a balance of `1000` for account holder `\"Alice\"`.\n",
        "2. The `deposit` method is called to add `500` to the account.\n",
        "3. The `withdraw` method is called to subtract `200` from the balance.\n",
        "4. The `display_balance` method shows the account details.\n"
      ],
      "metadata": {
        "id": "1nEOOhx39E0D"
      },
      "id": "1nEOOhx39E0D"
    }
  ],
  "metadata": {
    "kernelspec": {
      "display_name": "Python 3",
      "name": "python3"
    },
    "language_info": {
      "name": "python"
    },
    "required_libs": [],
    "colab": {
      "provenance": [],
      "include_colab_link": true
    }
  },
  "nbformat": 4,
  "nbformat_minor": 5
}