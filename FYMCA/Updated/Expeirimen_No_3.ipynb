{
  "cells": [
    {
      "cell_type": "markdown",
      "metadata": {
        "id": "view-in-github",
        "colab_type": "text"
      },
      "source": [
        "<a href=\"https://colab.research.google.com/github/MussaddikKhan/Python-College-Experiments/blob/master/FYMCA/Updated/Expeirimen_No_3.ipynb\" target=\"_parent\"><img src=\"https://colab.research.google.com/assets/colab-badge.svg\" alt=\"Open In Colab\"/></a>"
      ]
    },
    {
      "cell_type": "markdown",
      "source": [
        "#**Expeirment No 3:**\n",
        "***`Aim : Write a Python program to print the Fibonacci series using a while loop.`***\n",
        "\n",
        "**Fibonacci Series :**\n",
        "\n",
        "\n",
        "```\n",
        "The Fibonacci series starts with 0 and 1.\n",
        "Each subsequent number is the sum of the previous two numbers.\n",
        "For example: 0, 1, 1, 2, 3, 5, 8, ...\n",
        "```\n",
        "\n"
      ],
      "metadata": {
        "id": "dPh4Jjed01Ud"
      },
      "id": "dPh4Jjed01Ud"
    },
    {
      "cell_type": "code",
      "source": [
        "# Initialize the first two numbers of the Fibonacci series\n",
        "a, b = 0, 1\n",
        "\n",
        "# Prompt the user for the number of terms to generate\n",
        "n = int(input(\"Enter the number of terms: \"))\n",
        "\n",
        "# Counter to track the number of terms printed\n",
        "count = 0\n",
        "\n",
        "# Print the Fibonacci series using a while loop\n",
        "print(\"Fibonacci series:\")\n",
        "while count < n:\n",
        "    print(a, end=\" \")\n",
        "    # Update the values of a and b to the next numbers in the series\n",
        "    a, b = b, a + b\n",
        "    count += 1\n"
      ],
      "metadata": {
        "colab": {
          "base_uri": "https://localhost:8080/"
        },
        "id": "Hbp7H8DO1Swm",
        "outputId": "71ea8aed-7323-40cb-ce9f-4821a6a57ab5"
      },
      "id": "Hbp7H8DO1Swm",
      "execution_count": 3,
      "outputs": [
        {
          "output_type": "stream",
          "name": "stdout",
          "text": [
            "Enter the number of terms: 10\n",
            "Fibonacci series:\n",
            "0 1 1 2 3 5 8 13 21 34 "
          ]
        }
      ]
    }
  ],
  "metadata": {
    "kernelspec": {
      "display_name": "Python 3",
      "name": "python3"
    },
    "language_info": {
      "name": "python"
    },
    "required_libs": [],
    "colab": {
      "provenance": [],
      "include_colab_link": true
    }
  },
  "nbformat": 4,
  "nbformat_minor": 5
}