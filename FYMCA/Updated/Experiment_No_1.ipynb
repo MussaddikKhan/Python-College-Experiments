{
  "cells": [
    {
      "cell_type": "markdown",
      "metadata": {
        "id": "view-in-github",
        "colab_type": "text"
      },
      "source": [
        "<a href=\"https://colab.research.google.com/github/MussaddikKhan/Python-College-Experiments/blob/master/FYMCA/Updated/Experiment_No_1.ipynb\" target=\"_parent\"><img src=\"https://colab.research.google.com/assets/colab-badge.svg\" alt=\"Open In Colab\"/></a>"
      ]
    },
    {
      "cell_type": "markdown",
      "source": [
        "#**Expeirment No 1:**\n",
        "***`Write a Python program that takes the username as input and prints a personalized greeting message.`***"
      ],
      "metadata": {
        "id": "dPh4Jjed01Ud"
      },
      "id": "dPh4Jjed01Ud"
    },
    {
      "cell_type": "code",
      "source": [
        "# Take the username as input from the user\n",
        "username = input(\"Enter your name: \")\n",
        "\n",
        "# Print a personalized greeting message\n",
        "print(f\"Hello, {username}! Welcome!\")"
      ],
      "metadata": {
        "id": "Hbp7H8DO1Swm",
        "outputId": "578c0009-5016-4c90-9c07-c9f3094a7c9f",
        "colab": {
          "base_uri": "https://localhost:8080/",
          "height": 0
        }
      },
      "id": "Hbp7H8DO1Swm",
      "execution_count": 1,
      "outputs": [
        {
          "output_type": "stream",
          "name": "stdout",
          "text": [
            "Enter your name: Harry \n",
            "Hello, Harry ! Welcome!\n"
          ]
        }
      ]
    },
    {
      "cell_type": "markdown",
      "source": [
        "**Explanation:**\n",
        "\n",
        "`input(\"Enter your name: \")`\n",
        "\n",
        "This function displays the prompt message \"Enter your name:\" and waits for the user to input their name.\n",
        "The entered value is stored in the variable username.\n",
        "\n",
        "`print(f\"Hello, {username}! Welcome!\"):`\n",
        "\n",
        "This uses an f-string to embed the value of the username variable directly into the string.\n",
        "It ensures the greeting message is dynamic based on the user's input."
      ],
      "metadata": {
        "id": "2PDm9Q9K1rsG"
      },
      "id": "2PDm9Q9K1rsG"
    }
  ],
  "metadata": {
    "kernelspec": {
      "display_name": "Python 3",
      "name": "python3"
    },
    "language_info": {
      "name": "python"
    },
    "required_libs": [],
    "colab": {
      "provenance": [],
      "include_colab_link": true
    }
  },
  "nbformat": 4,
  "nbformat_minor": 5
}