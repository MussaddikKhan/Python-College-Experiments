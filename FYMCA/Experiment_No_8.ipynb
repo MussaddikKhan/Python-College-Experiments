{
  "cells": [
    {
      "cell_type": "markdown",
      "metadata": {
        "id": "view-in-github",
        "colab_type": "text"
      },
      "source": [
        "<a href=\"https://colab.research.google.com/github/MussaddikKhan/Python-College-Experiments/blob/master/FYMCA/Experiment_No_8.ipynb\" target=\"_parent\"><img src=\"https://colab.research.google.com/assets/colab-badge.svg\" alt=\"Open In Colab\"/></a>"
      ]
    },
    {
      "cell_type": "markdown",
      "source": [
        "**Experiment 8 :**\n",
        "***`Class and object `***"
      ],
      "metadata": {
        "id": "V__GoVW6Lvak"
      },
      "id": "V__GoVW6Lvak"
    },
    {
      "cell_type": "markdown",
      "source": [
        "**Classes and Objects**\n",
        "\n",
        "> Class: A blueprint for creating objects. It defines attributes (variables) and methods (functions) that describe the behavior and properties of the object.\n",
        "\n",
        "> Object: An instance of a class. Objects represent real-world entities and can use the attributes and methods defined in the class.\n",
        "\n",
        "> Constructor (__init__): A special method in a class that initializes the attributes of an object when it is created.\n",
        "\n",
        "> Attributes: Variables that store data about the object.\n",
        "\n",
        "*  Public Attributes: Accessible from anywhere in the program.\n",
        "*  Private Attributes: Prefixed with __ (double underscore) and accessible only within the class.\n",
        "\n",
        "> Methods: Functions defined inside a class that operate on its objects.\n",
        "\n",
        "*   Private Methods: Prefixed with __ and can only be called within the class.\n",
        "\n"
      ],
      "metadata": {
        "id": "RJRrwNzjM8d4"
      },
      "id": "RJRrwNzjM8d4"
    },
    {
      "cell_type": "code",
      "source": [
        "# Define a basic class\n",
        "class Student:\n",
        "    # Constructor: Initializes attributes when an object is created\n",
        "    def __init__(self, name, age, student_id):\n",
        "        self.name = name       # Public attribute\n",
        "        self.age = age         # Public attribute\n",
        "        self.__student_id = student_id  # Private attribute (starts with __)\n",
        "\n",
        "    # Method: A function inside a class\n",
        "    def introduce(self):\n",
        "        print(f\"My name is {self.name}, I am {self.age} years old.\")\n",
        "\n",
        "    # Public method to access private attribute\n",
        "    def get_student_id(self):\n",
        "        return self.__student_id\n",
        "\n",
        "    # Private method\n",
        "    def __display_private_message(self):\n",
        "        print(\"This is a private method!\")\n",
        "\n",
        "    # Method to demonstrate calling private method\n",
        "    def show_private_message(self):\n",
        "        self.__display_private_message()\n",
        "\n",
        "\n",
        "# Inheritance Example: Define a new class that extends the Student class\n",
        "class GraduateStudent(Student):\n",
        "    def __init__(self, name, age, student_id, thesis_title):\n",
        "        super().__init__(name, age, student_id)  # Call the parent class constructor\n",
        "        self.thesis_title = thesis_title  # Additional attribute for GraduateStudent\n",
        "\n",
        "    # Additional method specific to GraduateStudent\n",
        "    def display_thesis(self):\n",
        "        print(f\"My thesis title is: {self.thesis_title}\")\n",
        "\n",
        "\n",
        "# Create objects and demonstrate functionality\n",
        "# Create a Student object\n",
        "student1 = Student(\"Alice\", 20, \"S12345\")\n",
        "student1.introduce()  # Call the introduce method\n",
        "print(\"Student ID:\", student1.get_student_id())  # Access private attribute via method\n",
        "student1.show_private_message()  # Call a method that uses a private method\n",
        "\n",
        "print(\"\\n\")  # Add a blank line for better output readability\n",
        "\n",
        "# Create a GraduateStudent object\n",
        "grad_student = GraduateStudent(\"Bob\", 25, \"G98765\", \"AI in Healthcare\")\n",
        "grad_student.introduce()  # Call the inherited method\n",
        "print(\"Student ID:\", grad_student.get_student_id())  # Access inherited private attribute\n",
        "grad_student.display_thesis()  # Call the GraduateStudent-specific method\n",
        "\n"
      ],
      "metadata": {
        "colab": {
          "base_uri": "https://localhost:8080/"
        },
        "id": "AP5-eRMhLUQN",
        "outputId": "38c03f47-323a-44d5-d718-a383b764970e"
      },
      "id": "AP5-eRMhLUQN",
      "execution_count": 49,
      "outputs": [
        {
          "output_type": "stream",
          "name": "stdout",
          "text": [
            "My name is Alice, I am 20 years old.\n",
            "Student ID: S12345\n",
            "This is a private method!\n",
            "\n",
            "\n",
            "My name is Bob, I am 25 years old.\n",
            "Student ID: G98765\n",
            "My thesis title is: AI in Healthcare\n"
          ]
        }
      ]
    }
  ],
  "metadata": {
    "kernelspec": {
      "display_name": "Python 3",
      "name": "python3"
    },
    "language_info": {
      "name": "python"
    },
    "required_libs": [],
    "colab": {
      "provenance": [],
      "include_colab_link": true
    }
  },
  "nbformat": 4,
  "nbformat_minor": 5
}