{
  "cells": [
    {
      "cell_type": "markdown",
      "metadata": {
        "id": "view-in-github",
        "colab_type": "text"
      },
      "source": [
        "<a href=\"https://colab.research.google.com/github/MussaddikKhan/Python-College-Experiments/blob/master/FYMCA/Experiment_No_7.ipynb\" target=\"_parent\"><img src=\"https://colab.research.google.com/assets/colab-badge.svg\" alt=\"Open In Colab\"/></a>"
      ]
    },
    {
      "cell_type": "markdown",
      "source": [
        "**Experiment 7 :**\n",
        "***` Exception Handling  `***"
      ],
      "metadata": {
        "id": "V__GoVW6Lvak"
      },
      "id": "V__GoVW6Lvak"
    },
    {
      "cell_type": "markdown",
      "source": [
        "**1.  Basic Exception Handling**\n",
        "\n",
        "\n"
      ],
      "metadata": {
        "id": "RJRrwNzjM8d4"
      },
      "id": "RJRrwNzjM8d4"
    },
    {
      "cell_type": "code",
      "source": [
        "# Handling division by zero\n",
        "try:\n",
        "    result = 10 / 0\n",
        "except ZeroDivisionError:\n",
        "    print(\"Error: Division by zero is not allowed!\")\n"
      ],
      "metadata": {
        "colab": {
          "base_uri": "https://localhost:8080/"
        },
        "id": "AP5-eRMhLUQN",
        "outputId": "a5de8923-446e-4cea-c164-15bc3322497b"
      },
      "id": "AP5-eRMhLUQN",
      "execution_count": 43,
      "outputs": [
        {
          "output_type": "stream",
          "name": "stdout",
          "text": [
            "Error: Division by zero is not allowed!\n"
          ]
        }
      ]
    },
    {
      "cell_type": "markdown",
      "source": [
        "**2.Handling Multiple Exceptions**\n",
        "\n",
        "\n",
        "\n"
      ],
      "metadata": {
        "id": "ixOEyVh3MPFZ"
      },
      "id": "ixOEyVh3MPFZ"
    },
    {
      "cell_type": "code",
      "source": [
        "# Handling multiple types of errors\n",
        "try:\n",
        "    number = int(\"Hello\")  # This will raise a ValueError\n",
        "except ValueError:\n",
        "    print(\"Error: Cannot convert string to integer!\")\n",
        "except ZeroDivisionError:\n",
        "    print(\"Error: Division by zero is not allowed!\")\n"
      ],
      "metadata": {
        "colab": {
          "base_uri": "https://localhost:8080/"
        },
        "id": "78Fc7CzyMYxJ",
        "outputId": "b6683ce8-5210-4389-e6dc-cecd478b0cd7"
      },
      "id": "78Fc7CzyMYxJ",
      "execution_count": 44,
      "outputs": [
        {
          "output_type": "stream",
          "name": "stdout",
          "text": [
            "Error: Cannot convert string to integer!\n"
          ]
        }
      ]
    },
    {
      "cell_type": "markdown",
      "source": [
        "**3.Using else with try-except**\n"
      ],
      "metadata": {
        "id": "zxiqvNYsNjlU"
      },
      "id": "zxiqvNYsNjlU"
    },
    {
      "cell_type": "code",
      "source": [
        "# Using else block to execute code if no exception occurs\n",
        "try:\n",
        "    result = 10 / 2\n",
        "except ZeroDivisionError:\n",
        "    print(\"Error: Division by zero!\")\n",
        "else:\n",
        "    print(f\"Division successful, result is {result}\")\n"
      ],
      "metadata": {
        "colab": {
          "base_uri": "https://localhost:8080/"
        },
        "id": "Pq-LCFtrNpP4",
        "outputId": "0e58b9c4-0e0e-48b8-e121-1cd2f8ca05c0"
      },
      "id": "Pq-LCFtrNpP4",
      "execution_count": 45,
      "outputs": [
        {
          "output_type": "stream",
          "name": "stdout",
          "text": [
            "Division successful, result is 5.0\n"
          ]
        }
      ]
    },
    {
      "cell_type": "markdown",
      "source": [
        "**4. Using finally Block**\n"
      ],
      "metadata": {
        "id": "cXr7yP0lNrxX"
      },
      "id": "cXr7yP0lNrxX"
    },
    {
      "cell_type": "code",
      "source": [
        "# Using finally block to execute code regardless of an exception\n",
        "try:\n",
        "    file = open(\"non_existent_file.txt\", \"r\")\n",
        "except FileNotFoundError:\n",
        "    print(\"Error: File not found!\")\n",
        "finally:\n",
        "    print(\"Execution of the try-except block is complete.\")\n"
      ],
      "metadata": {
        "colab": {
          "base_uri": "https://localhost:8080/"
        },
        "id": "GsIzruWbNwn-",
        "outputId": "1beec3db-c5ce-4fe8-94de-e1cd7edeefbc"
      },
      "id": "GsIzruWbNwn-",
      "execution_count": 46,
      "outputs": [
        {
          "output_type": "stream",
          "name": "stdout",
          "text": [
            "Error: File not found!\n",
            "Execution of the try-except block is complete.\n"
          ]
        }
      ]
    },
    {
      "cell_type": "markdown",
      "source": [
        "**5. Raising an Exception**"
      ],
      "metadata": {
        "id": "2NhSJXddmZsX"
      },
      "id": "2NhSJXddmZsX"
    },
    {
      "cell_type": "code",
      "source": [
        "# Raising an exception manually\n",
        "try:\n",
        "    age = -5\n",
        "    if age < 0:\n",
        "        raise ValueError(\"Age cannot be negative!\")\n",
        "except ValueError as e:\n",
        "    print(\"Caught Exception:\", e)\n"
      ],
      "metadata": {
        "id": "WlPVTqLVmdOJ",
        "outputId": "1f0c4510-d6f0-45b5-a78e-eac3e9c6ff9b",
        "colab": {
          "base_uri": "https://localhost:8080/"
        }
      },
      "id": "WlPVTqLVmdOJ",
      "execution_count": 47,
      "outputs": [
        {
          "output_type": "stream",
          "name": "stdout",
          "text": [
            "Caught Exception: Age cannot be negative!\n"
          ]
        }
      ]
    },
    {
      "cell_type": "markdown",
      "source": [
        "**6. Custom Exception**"
      ],
      "metadata": {
        "id": "5iwBdtvhmfeU"
      },
      "id": "5iwBdtvhmfeU"
    },
    {
      "cell_type": "code",
      "source": [
        "# Creating and using a custom exception\n",
        "class NegativeNumberError(Exception):\n",
        "    \"\"\"Exception raised for negative numbers.\"\"\"\n",
        "    pass\n",
        "\n",
        "try:\n",
        "    number = -10\n",
        "    if number < 0:\n",
        "        raise NegativeNumberError(\"Number cannot be negative!\")\n",
        "except NegativeNumberError as e:\n",
        "    print(\"Caught Exception:\", e)\n"
      ],
      "metadata": {
        "id": "U3uwDOmjmjlS",
        "outputId": "2e76b31b-4281-45a0-e25d-444953050f6c",
        "colab": {
          "base_uri": "https://localhost:8080/"
        }
      },
      "id": "U3uwDOmjmjlS",
      "execution_count": 48,
      "outputs": [
        {
          "output_type": "stream",
          "name": "stdout",
          "text": [
            "Caught Exception: Number cannot be negative!\n"
          ]
        }
      ]
    }
  ],
  "metadata": {
    "kernelspec": {
      "display_name": "Python 3",
      "name": "python3"
    },
    "language_info": {
      "name": "python"
    },
    "required_libs": [],
    "colab": {
      "provenance": [],
      "include_colab_link": true
    }
  },
  "nbformat": 4,
  "nbformat_minor": 5
}