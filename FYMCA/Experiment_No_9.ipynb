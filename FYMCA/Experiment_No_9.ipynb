{
  "cells": [
    {
      "cell_type": "markdown",
      "metadata": {
        "id": "view-in-github",
        "colab_type": "text"
      },
      "source": [
        "<a href=\"https://colab.research.google.com/github/MussaddikKhan/Python-College-Experiments/blob/master/FYMCA/Experiment_No_9.ipynb\" target=\"_parent\"><img src=\"https://colab.research.google.com/assets/colab-badge.svg\" alt=\"Open In Colab\"/></a>"
      ]
    },
    {
      "cell_type": "markdown",
      "source": [
        "**Experiment 9 :**\n",
        "***`Inheritance `***\n"
      ],
      "metadata": {
        "id": "V__GoVW6Lvak"
      },
      "id": "V__GoVW6Lvak"
    },
    {
      "cell_type": "markdown",
      "source": [
        "**Inheritance**\n",
        "Inheritance allows a class (child class) to acquire the properties and methods of another class (parent class). It promotes code reuse and helps create a hierarchy of classes."
      ],
      "metadata": {
        "id": "RJRrwNzjM8d4"
      },
      "id": "RJRrwNzjM8d4"
    },
    {
      "cell_type": "code",
      "source": [
        "# Parent Class\n",
        "class Person:\n",
        "    def __init__(self, name, age):\n",
        "        self.name = name\n",
        "        self.age = age\n",
        "\n",
        "    def introduce(self):\n",
        "        print(f\"My name is {self.name}, and I am {self.age} years old.\")\n",
        "\n",
        "# Child Class (inherits from Person)\n",
        "class Student(Person):\n",
        "    def __init__(self, name, age, student_id):\n",
        "        super().__init__(name, age)  # Call the constructor of the Parent class\n",
        "        self.student_id = student_id\n",
        "\n",
        "    def display_id(self):\n",
        "        print(f\"My student ID is {self.student_id}.\")\n",
        "\n",
        "# Child Class (inherits from Person)\n",
        "class Teacher(Person):\n",
        "    def __init__(self, name, age, subject):\n",
        "        super().__init__(name, age)  # Call the constructor of the Parent class\n",
        "        self.subject = subject\n",
        "\n",
        "    def display_subject(self):\n",
        "        print(f\"I teach {self.subject}.\")\n",
        "\n",
        "# Creating Objects\n",
        "# Person object\n",
        "person1 = Person(\"Alice\", 40)\n",
        "person1.introduce()\n",
        "\n",
        "# Student object (inherits from Person)\n",
        "student1 = Student(\"Bob\", 20, \"S12345\")\n",
        "student1.introduce()  # Inherited method\n",
        "student1.display_id()  # Child class method\n",
        "\n",
        "# Teacher object (inherits from Person)\n",
        "teacher1 = Teacher(\"Charlie\", 35, \"Mathematics\")\n",
        "teacher1.introduce()  # Inherited method\n",
        "teacher1.display_subject()  # Child class method\n"
      ],
      "metadata": {
        "colab": {
          "base_uri": "https://localhost:8080/"
        },
        "id": "AP5-eRMhLUQN",
        "outputId": "fe10c1a9-e24b-4bf4-e044-350008cc06e4"
      },
      "id": "AP5-eRMhLUQN",
      "execution_count": 50,
      "outputs": [
        {
          "output_type": "stream",
          "name": "stdout",
          "text": [
            "My name is Alice, and I am 40 years old.\n",
            "My name is Bob, and I am 20 years old.\n",
            "My student ID is S12345.\n",
            "My name is Charlie, and I am 35 years old.\n",
            "I teach Mathematics.\n"
          ]
        }
      ]
    }
  ],
  "metadata": {
    "kernelspec": {
      "display_name": "Python 3",
      "name": "python3"
    },
    "language_info": {
      "name": "python"
    },
    "required_libs": [],
    "colab": {
      "provenance": [],
      "include_colab_link": true
    }
  },
  "nbformat": 4,
  "nbformat_minor": 5
}