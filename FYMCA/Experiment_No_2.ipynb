{
  "cells": [
    {
      "cell_type": "markdown",
      "metadata": {
        "id": "view-in-github",
        "colab_type": "text"
      },
      "source": [
        "<a href=\"https://colab.research.google.com/github/MussaddikKhan/Python-College-Experiments/blob/master/FYMCA/Experiment_No_2.ipynb\" target=\"_parent\"><img src=\"https://colab.research.google.com/assets/colab-badge.svg\" alt=\"Open In Colab\"/></a>"
      ]
    },
    {
      "cell_type": "markdown",
      "source": [
        "**Experiment 2 :**\n",
        "***` Conditional statements (if, if-else,if-elif-else, nested if, match-case) `***"
      ],
      "metadata": {
        "id": "V__GoVW6Lvak"
      },
      "id": "V__GoVW6Lvak"
    },
    {
      "cell_type": "markdown",
      "source": [
        "**1.if Statement**\n",
        "\n",
        "\n",
        "\n",
        "\n"
      ],
      "metadata": {
        "id": "RJRrwNzjM8d4"
      },
      "id": "RJRrwNzjM8d4"
    },
    {
      "cell_type": "code",
      "source": [
        "# Check if a number is positive\n",
        "num = 10\n",
        "if num > 0:\n",
        "    print(f\"{num} is a positive number.\")\n"
      ],
      "metadata": {
        "colab": {
          "base_uri": "https://localhost:8080/"
        },
        "id": "AP5-eRMhLUQN",
        "outputId": "d20dffb4-3206-49f1-e6c0-681b2fcaad13"
      },
      "id": "AP5-eRMhLUQN",
      "execution_count": 9,
      "outputs": [
        {
          "output_type": "stream",
          "name": "stdout",
          "text": [
            "10 is a positive number.\n"
          ]
        }
      ]
    },
    {
      "cell_type": "markdown",
      "source": [
        "**2.  if-else Statement**"
      ],
      "metadata": {
        "id": "ixOEyVh3MPFZ"
      },
      "id": "ixOEyVh3MPFZ"
    },
    {
      "cell_type": "code",
      "source": [
        "# Check if a number is even or odd\n",
        "num = 7\n",
        "if num % 2 == 0:\n",
        "    print(f\"{num} is even.\")\n",
        "else:\n",
        "    print(f\"{num} is odd.\")\n"
      ],
      "metadata": {
        "colab": {
          "base_uri": "https://localhost:8080/"
        },
        "id": "78Fc7CzyMYxJ",
        "outputId": "1fbfaecb-4776-4369-adb9-0393bfadbbb4"
      },
      "id": "78Fc7CzyMYxJ",
      "execution_count": 10,
      "outputs": [
        {
          "output_type": "stream",
          "name": "stdout",
          "text": [
            "7 is odd.\n"
          ]
        }
      ]
    },
    {
      "cell_type": "markdown",
      "source": [
        "**3. if-elif-else Statement**"
      ],
      "metadata": {
        "id": "zxiqvNYsNjlU"
      },
      "id": "zxiqvNYsNjlU"
    },
    {
      "cell_type": "code",
      "source": [
        "# Grade categorization based on marks\n",
        "marks = 85\n",
        "if marks >= 90:\n",
        "    print(\"Grade: A\")\n",
        "elif marks >= 75:\n",
        "    print(\"Grade: B\")\n",
        "elif marks >= 50:\n",
        "    print(\"Grade: C\")\n",
        "else:\n",
        "    print(\"Grade: F\")\n"
      ],
      "metadata": {
        "colab": {
          "base_uri": "https://localhost:8080/"
        },
        "id": "Pq-LCFtrNpP4",
        "outputId": "69f4254f-7a70-4a83-e013-1d4cfd0c13a6"
      },
      "id": "Pq-LCFtrNpP4",
      "execution_count": 11,
      "outputs": [
        {
          "output_type": "stream",
          "name": "stdout",
          "text": [
            "Grade: B\n"
          ]
        }
      ]
    },
    {
      "cell_type": "markdown",
      "source": [
        "**4. Nested if Statement**"
      ],
      "metadata": {
        "id": "cXr7yP0lNrxX"
      },
      "id": "cXr7yP0lNrxX"
    },
    {
      "cell_type": "code",
      "source": [
        "# Check if a number is positive, and further check if it's even or odd\n",
        "num = 4\n",
        "if num > 0:\n",
        "    print(f\"{num} is positive.\")\n",
        "    if num % 2 == 0:\n",
        "        print(f\"{num} is even.\")\n",
        "    else:\n",
        "        print(f\"{num} is odd.\")\n",
        "else:\n",
        "    print(f\"{num} is not positive.\")\n"
      ],
      "metadata": {
        "colab": {
          "base_uri": "https://localhost:8080/"
        },
        "id": "GsIzruWbNwn-",
        "outputId": "f8cb2931-faa0-4a7c-ec65-2b8e36e6a0e2"
      },
      "id": "GsIzruWbNwn-",
      "execution_count": 12,
      "outputs": [
        {
          "output_type": "stream",
          "name": "stdout",
          "text": [
            "4 is positive.\n",
            "4 is even.\n"
          ]
        }
      ]
    },
    {
      "cell_type": "markdown",
      "source": [
        "**5. match-case Statement**"
      ],
      "metadata": {
        "id": "_CnGrTUJN1OL"
      },
      "id": "_CnGrTUJN1OL"
    },
    {
      "cell_type": "code",
      "source": [
        "# Match fruit names\n",
        "fruit = \"apple\"\n",
        "\n",
        "match fruit:\n",
        "    case \"apple\":\n",
        "        print(\"It's an apple!\")\n",
        "    case \"banana\":\n",
        "        print(\"It's a banana!\")\n",
        "    case \"orange\":\n",
        "        print(\"It's an orange!\")\n",
        "    case _:\n",
        "        print(\"Unknown fruit.\")\n"
      ],
      "metadata": {
        "colab": {
          "base_uri": "https://localhost:8080/"
        },
        "id": "JHD6vcfkN3Ec",
        "outputId": "5e7a2fba-038a-453d-ee61-718309d49b0a"
      },
      "id": "JHD6vcfkN3Ec",
      "execution_count": 13,
      "outputs": [
        {
          "output_type": "stream",
          "name": "stdout",
          "text": [
            "It's an apple!\n"
          ]
        }
      ]
    }
  ],
  "metadata": {
    "kernelspec": {
      "display_name": "Python 3",
      "name": "python3"
    },
    "language_info": {
      "name": "python"
    },
    "required_libs": [],
    "colab": {
      "provenance": [],
      "include_colab_link": true
    }
  },
  "nbformat": 4,
  "nbformat_minor": 5
}