{
  "cells": [
    {
      "cell_type": "markdown",
      "source": [
        "**Experiment 1 :**\n",
        "***` Introduction to python programming and python data types`***"
      ],
      "metadata": {
        "id": "V__GoVW6Lvak"
      },
      "id": "V__GoVW6Lvak"
    },
    {
      "cell_type": "markdown",
      "source": [
        "**1.Introduction to Python**\n",
        "\n",
        "\n",
        "\n",
        "\n"
      ],
      "metadata": {
        "id": "RJRrwNzjM8d4"
      },
      "id": "RJRrwNzjM8d4"
    },
    {
      "cell_type": "code",
      "source": [
        "# Print a message\n",
        "print(\"Welcome to Python Programming!\")\n",
        "\n",
        "# Variables and basic math\n",
        "a = 10\n",
        "b = 5\n",
        "print(\"Addition of\", a, \"and\", b, \"is:\", a + b)\n"
      ],
      "metadata": {
        "colab": {
          "base_uri": "https://localhost:8080/"
        },
        "id": "AP5-eRMhLUQN",
        "outputId": "f5e4784f-27ba-4a38-ab19-995bf6195d6a"
      },
      "id": "AP5-eRMhLUQN",
      "execution_count": 2,
      "outputs": [
        {
          "output_type": "stream",
          "name": "stdout",
          "text": [
            "Welcome to Python Programming!\n",
            "Addition of 10 and 5 is: 15\n"
          ]
        }
      ]
    },
    {
      "cell_type": "markdown",
      "source": [
        "**2. Python Data Types**"
      ],
      "metadata": {
        "id": "ixOEyVh3MPFZ"
      },
      "id": "ixOEyVh3MPFZ"
    },
    {
      "cell_type": "markdown",
      "source": [
        "\n",
        "\n",
        "> Numeric Types\n",
        "\n"
      ],
      "metadata": {
        "id": "fmmjXELKNauy"
      },
      "id": "fmmjXELKNauy"
    },
    {
      "cell_type": "code",
      "source": [
        "x = 42  # Integer\n",
        "y = 3.14  # Float\n",
        "print(\"Integer:\", x, \"| Float:\", y)"
      ],
      "metadata": {
        "colab": {
          "base_uri": "https://localhost:8080/"
        },
        "id": "78Fc7CzyMYxJ",
        "outputId": "7bbc0210-d36d-475b-977e-a1151db06267"
      },
      "id": "78Fc7CzyMYxJ",
      "execution_count": 3,
      "outputs": [
        {
          "output_type": "stream",
          "name": "stdout",
          "text": [
            "Integer: 42 | Float: 3.14\n"
          ]
        }
      ]
    },
    {
      "cell_type": "markdown",
      "source": [
        "\n",
        "\n",
        "> String\n",
        "\n"
      ],
      "metadata": {
        "id": "zxiqvNYsNjlU"
      },
      "id": "zxiqvNYsNjlU"
    },
    {
      "cell_type": "code",
      "source": [
        "greeting = \"Hello, Python!\"\n",
        "print(\"Message:\", greeting)\n",
        "print(\"First 5 letters:\", greeting[:5])  # Substring"
      ],
      "metadata": {
        "colab": {
          "base_uri": "https://localhost:8080/"
        },
        "id": "Pq-LCFtrNpP4",
        "outputId": "c3a61a12-16ab-42a5-87f9-4824ae01f29a"
      },
      "id": "Pq-LCFtrNpP4",
      "execution_count": 4,
      "outputs": [
        {
          "output_type": "stream",
          "name": "stdout",
          "text": [
            "Message: Hello, Python!\n",
            "First 5 letters: Hello\n"
          ]
        }
      ]
    },
    {
      "cell_type": "markdown",
      "source": [
        "\n",
        "\n",
        "> List\n",
        "\n"
      ],
      "metadata": {
        "id": "cXr7yP0lNrxX"
      },
      "id": "cXr7yP0lNrxX"
    },
    {
      "cell_type": "code",
      "source": [
        "fruits = [\"apple\", \"banana\", \"cherry\"]\n",
        "print(\"Fruits List:\", fruits)\n",
        "fruits.append(\"orange\")  # Add a new fruit\n",
        "print(\"Updated List:\", fruits)"
      ],
      "metadata": {
        "colab": {
          "base_uri": "https://localhost:8080/"
        },
        "id": "GsIzruWbNwn-",
        "outputId": "4989cfbd-a9eb-4423-b17a-c5ea222fb5be"
      },
      "id": "GsIzruWbNwn-",
      "execution_count": 5,
      "outputs": [
        {
          "output_type": "stream",
          "name": "stdout",
          "text": [
            "Fruits List: ['apple', 'banana', 'cherry']\n",
            "Updated List: ['apple', 'banana', 'cherry', 'orange']\n"
          ]
        }
      ]
    },
    {
      "cell_type": "markdown",
      "source": [
        "\n",
        "\n",
        "> Dictionary\n",
        "\n"
      ],
      "metadata": {
        "id": "_CnGrTUJN1OL"
      },
      "id": "_CnGrTUJN1OL"
    },
    {
      "cell_type": "code",
      "source": [
        "student = {\"name\": \"John\", \"age\": 20}\n",
        "print(\"Student Info:\", student)\n",
        "print(\"Student Name:\", student[\"name\"])"
      ],
      "metadata": {
        "colab": {
          "base_uri": "https://localhost:8080/"
        },
        "id": "JHD6vcfkN3Ec",
        "outputId": "4ced1afe-f802-4892-c3f6-e8b4dcd677dd"
      },
      "id": "JHD6vcfkN3Ec",
      "execution_count": 7,
      "outputs": [
        {
          "output_type": "stream",
          "name": "stdout",
          "text": [
            "Student Info: {'name': 'John', 'age': 20}\n",
            "Student Name: John\n"
          ]
        }
      ]
    }
  ],
  "metadata": {
    "kernelspec": {
      "display_name": "Python 3",
      "name": "python3"
    },
    "language_info": {
      "name": "python"
    },
    "required_libs": [],
    "colab": {
      "provenance": []
    }
  },
  "nbformat": 4,
  "nbformat_minor": 5
}