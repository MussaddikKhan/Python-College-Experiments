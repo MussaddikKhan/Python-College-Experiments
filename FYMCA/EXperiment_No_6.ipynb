{
  "cells": [
    {
      "cell_type": "markdown",
      "metadata": {
        "id": "view-in-github",
        "colab_type": "text"
      },
      "source": [
        "<a href=\"https://colab.research.google.com/github/MussaddikKhan/Python-College-Experiments/blob/master/FYMCA/EXperiment_No_6.ipynb\" target=\"_parent\"><img src=\"https://colab.research.google.com/assets/colab-badge.svg\" alt=\"Open In Colab\"/></a>"
      ]
    },
    {
      "cell_type": "markdown",
      "source": [
        "**Experiment 6 :**\n",
        "***` File Handeling  `***"
      ],
      "metadata": {
        "id": "V__GoVW6Lvak"
      },
      "id": "V__GoVW6Lvak"
    },
    {
      "cell_type": "markdown",
      "source": [
        "**1. Write to a File**\n",
        "\n",
        "> To create a file and write data into it\n"
      ],
      "metadata": {
        "id": "RJRrwNzjM8d4"
      },
      "id": "RJRrwNzjM8d4"
    },
    {
      "cell_type": "code",
      "source": [
        "# Open a file in write mode ('w')\n",
        "file = open(\"myfile.txt\", \"w\")  # Creates 'myfile.txt' if it doesn't exist\n",
        "file.write(\"Hello, this is my first file.\\n\")\n",
        "file.write(\"Python makes file handling easy!\\n\")\n",
        "file.close()  # Always close the file after writing\n",
        "print(\"File written successfully!\")\n"
      ],
      "metadata": {
        "colab": {
          "base_uri": "https://localhost:8080/"
        },
        "id": "AP5-eRMhLUQN",
        "outputId": "31f65010-f420-4cb4-9778-dc0bcf0b2a3e"
      },
      "id": "AP5-eRMhLUQN",
      "execution_count": 31,
      "outputs": [
        {
          "output_type": "stream",
          "name": "stdout",
          "text": [
            "File written successfully!\n"
          ]
        }
      ]
    },
    {
      "cell_type": "markdown",
      "source": [
        "**2. Read from a File**\n",
        "\n",
        "\n",
        "> To read data from a file:\n",
        "\n"
      ],
      "metadata": {
        "id": "ixOEyVh3MPFZ"
      },
      "id": "ixOEyVh3MPFZ"
    },
    {
      "cell_type": "code",
      "source": [
        "# Open the file in read mode ('r')\n",
        "file = open(\"myfile.txt\", \"r\")\n",
        "content = file.read()  # Read the entire file content\n",
        "file.close()\n",
        "print(\"File Content:\")\n",
        "print(content)\n"
      ],
      "metadata": {
        "colab": {
          "base_uri": "https://localhost:8080/"
        },
        "id": "78Fc7CzyMYxJ",
        "outputId": "5b73675c-757d-4bec-be5b-9f6a319f7d0e"
      },
      "id": "78Fc7CzyMYxJ",
      "execution_count": 38,
      "outputs": [
        {
          "output_type": "stream",
          "name": "stdout",
          "text": [
            "File Content:\n",
            "Hello, this is my first file.\n",
            "Python makes file handling easy!\n",
            "This is a new line added to the file.\n",
            "\n"
          ]
        }
      ]
    },
    {
      "cell_type": "markdown",
      "source": [
        "**3. Append to a File**\n",
        "\n",
        "\n",
        "> To add more data to an existing file:\n",
        "\n"
      ],
      "metadata": {
        "id": "zxiqvNYsNjlU"
      },
      "id": "zxiqvNYsNjlU"
    },
    {
      "cell_type": "code",
      "source": [
        "# Open the file in append mode ('a')\n",
        "file = open(\"myfile.txt\", \"a\")\n",
        "file.write(\"This is a new line added to the file.\\n\")\n",
        "file.close()\n",
        "print(\"Data appended successfully!\")\n"
      ],
      "metadata": {
        "colab": {
          "base_uri": "https://localhost:8080/"
        },
        "id": "Pq-LCFtrNpP4",
        "outputId": "23aeba24-68f1-422a-f63c-f5c4921044f6"
      },
      "id": "Pq-LCFtrNpP4",
      "execution_count": 37,
      "outputs": [
        {
          "output_type": "stream",
          "name": "stdout",
          "text": [
            "Data appended successfully!\n"
          ]
        }
      ]
    },
    {
      "cell_type": "markdown",
      "source": [
        "**4. Read Line by Line**\n",
        "\n",
        "\n",
        "> To read the file one line at a time:\n",
        "\n",
        "\n"
      ],
      "metadata": {
        "id": "cXr7yP0lNrxX"
      },
      "id": "cXr7yP0lNrxX"
    },
    {
      "cell_type": "code",
      "source": [
        "# Open the file in read mode\n",
        "file = open(\"myfile.txt\", \"r\")\n",
        "print(\"Reading line by line:\")\n",
        "for line in file:\n",
        "    print(line.strip())  # strip() removes extra spaces or newline characters\n",
        "file.close()\n"
      ],
      "metadata": {
        "colab": {
          "base_uri": "https://localhost:8080/"
        },
        "id": "GsIzruWbNwn-",
        "outputId": "a9b9ee25-fd1c-4d51-b5de-2a8c0eb08a08"
      },
      "id": "GsIzruWbNwn-",
      "execution_count": 36,
      "outputs": [
        {
          "output_type": "stream",
          "name": "stdout",
          "text": [
            "Reading line by line:\n",
            "Hello, this is my first file.\n",
            "Python makes file handling easy!\n"
          ]
        }
      ]
    }
  ],
  "metadata": {
    "kernelspec": {
      "display_name": "Python 3",
      "name": "python3"
    },
    "language_info": {
      "name": "python"
    },
    "required_libs": [],
    "colab": {
      "provenance": [],
      "include_colab_link": true
    }
  },
  "nbformat": 4,
  "nbformat_minor": 5
}