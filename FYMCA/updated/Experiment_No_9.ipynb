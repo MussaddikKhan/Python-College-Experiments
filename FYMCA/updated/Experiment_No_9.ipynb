{
  "cells": [
    {
      "cell_type": "markdown",
      "metadata": {
        "id": "view-in-github",
        "colab_type": "text"
      },
      "source": [
        "<a href=\"https://colab.research.google.com/github/MussaddikKhan/Python-College-Experiments/blob/master/FYMCA/updated/Experiment_No_9.ipynb\" target=\"_parent\"><img src=\"https://colab.research.google.com/assets/colab-badge.svg\" alt=\"Open In Colab\"/></a>"
      ]
    },
    {
      "cell_type": "markdown",
      "source": [
        "#**Expeirment No 9:**\n",
        "***`Write a Python program that reads a CSV file containing information about students (roll number, name, marks) and calculates the average marks for all students.`***\n",
        "\n",
        "***CSV File Record***\n",
        "\n",
        "![image.png](data:image/png;base64,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)"
      ],
      "metadata": {
        "id": "dPh4Jjed01Ud"
      },
      "id": "dPh4Jjed01Ud"
    },
    {
      "cell_type": "code",
      "source": [
        "import csv\n",
        "\n",
        "# Function to read the CSV file and calculate the average marks\n",
        "def calculate_average_marks(file_name):\n",
        "    total_marks = 0\n",
        "    total_students = 0\n",
        "\n",
        "    # Open and read the CSV file\n",
        "    with open(file_name, mode='r') as file:\n",
        "        csv_reader = csv.reader(file)\n",
        "\n",
        "        # Skip the header row\n",
        "        next(csv_reader)\n",
        "\n",
        "        # Loop through each row in the CSV file\n",
        "        for row in csv_reader:\n",
        "            # Assuming the CSV has 'roll number', 'name', 'marks' in the columns\n",
        "            try:\n",
        "                marks = float(row[2])  # marks are in the third column\n",
        "                total_marks += marks\n",
        "                total_students += 1\n",
        "            except ValueError:\n",
        "                # Handle case if marks are not a valid number\n",
        "                print(f\"Invalid marks in row: {row}\")\n",
        "\n",
        "    # Calculate the average marks\n",
        "    if total_students == 0:\n",
        "        return 0\n",
        "    else:\n",
        "        return total_marks / total_students\n",
        "\n",
        "# Call the function with the path to your CSV file\n",
        "file_name = 'students.csv'  # Replace with the actual CSV file path\n",
        "average_marks = calculate_average_marks(file_name)\n",
        "\n",
        "# Display the average marks\n",
        "print(f\"The average marks of all students is: {average_marks}\")\n"
      ],
      "metadata": {
        "colab": {
          "base_uri": "https://localhost:8080/",
          "height": 0
        },
        "id": "Hbp7H8DO1Swm",
        "outputId": "61177a87-10db-4dfd-a386-7b51b9e0eb24"
      },
      "id": "Hbp7H8DO1Swm",
      "execution_count": 9,
      "outputs": [
        {
          "output_type": "stream",
          "name": "stdout",
          "text": [
            "The average marks of all students is: 85.75\n"
          ]
        }
      ]
    },
    {
      "cell_type": "markdown",
      "source": [
        "### Explanation:\n",
        "\n",
        "###### Step 1: Importing the `csv` Module\n",
        "- **`import csv`**: The `csv` module is imported to facilitate reading from and writing to CSV files. This module helps to parse CSV data efficiently.\n",
        "\n",
        "###### Step 2: Define the Function `calculate_average_marks(file_name)`\n",
        "- **Function Signature**: `def calculate_average_marks(file_name):`  \n",
        "  The function takes the CSV file name as an argument and calculates the average marks of students present in the file.\n",
        "\n",
        "###### Step 3: Reading and Parsing the CSV File\n",
        "- **`with open(file_name, mode='r') as file:`**  \n",
        "  This opens the CSV file in read mode.\n",
        "  - `csv.reader(file)` is used to create a CSV reader object that can iterate over the lines in the file.\n",
        "\n",
        "- **Skipping the Header**:\n",
        "  - **`next(csv_reader)`**: This skips the first row (header) of the CSV file since it's not part of the data we need to process.\n",
        "\n",
        "###### Step 4: Iterating Over the Rows in the CSV File\n",
        "- **`for row in csv_reader:`**: This loops through each row in the CSV file.\n",
        "  - Each `row` is a list of values (e.g., `roll number`, `name`, `marks`).\n",
        "\n",
        "###### Step 5: Extracting Marks and Calculating the Total\n",
        "- **Extracting Marks**: The marks are expected to be in the third column of the CSV (i.e., `row[2]`).\n",
        "  - **`marks = float(row[2])`**: Convert the marks to a float for calculations. If marks are not valid (non-numeric), the `ValueError` exception is caught.\n",
        "\n",
        "- **Accumulate Marks and Count Students**:  \n",
        "  - **`total_marks += marks`**: Adds the marks of the current student to the total marks.\n",
        "  - **`total_students += 1`**: Increments the student count.\n",
        "\n",
        "###### Step 6: Calculating the Average\n",
        "- **Average Calculation**: Once all students' marks have been summed, the average is calculated:\n",
        "  - **`average_marks = total_marks / total_students`**: This formula gives the average marks by dividing the total marks by the number of students.\n",
        "  - If there are no valid students (`total_students == 0`), the average is returned as 0 to avoid division by zero.\n",
        "\n",
        "###### Step 7: Calling the Function and Displaying the Result\n",
        "- The function `calculate_average_marks()` is called with the file path (`students.csv`), and the average marks are printed.\n",
        "\n",
        "###### Sample CSV File Format:\n",
        "The CSV file (`students.csv`) should be structured as follows:\n",
        "\n"
      ],
      "metadata": {
        "id": "1nEOOhx39E0D"
      },
      "id": "1nEOOhx39E0D"
    }
  ],
  "metadata": {
    "kernelspec": {
      "display_name": "Python 3",
      "name": "python3"
    },
    "language_info": {
      "name": "python"
    },
    "required_libs": [],
    "colab": {
      "provenance": [],
      "include_colab_link": true
    }
  },
  "nbformat": 4,
  "nbformat_minor": 5
}