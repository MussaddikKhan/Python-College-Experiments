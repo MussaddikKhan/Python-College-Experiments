{
  "cells": [
    {
      "cell_type": "markdown",
      "metadata": {
        "id": "view-in-github",
        "colab_type": "text"
      },
      "source": [
        "<a href=\"https://colab.research.google.com/github/MussaddikKhan/Python-College-Experiments/blob/master/FYMCA/updated/Experiment_No_7.ipynb\" target=\"_parent\"><img src=\"https://colab.research.google.com/assets/colab-badge.svg\" alt=\"Open In Colab\"/></a>"
      ]
    },
    {
      "cell_type": "markdown",
      "source": [
        "#**Expeirment No 7:**\n",
        "***`Create a Python class representing a shape and derive subclasses like rectangle, circle, and triangle. Each subclass should have methods to calculate its area and perimeter.`***\n",
        "\n",
        "\n"
      ],
      "metadata": {
        "id": "dPh4Jjed01Ud"
      },
      "id": "dPh4Jjed01Ud"
    },
    {
      "cell_type": "code",
      "source": [
        "# Base class: Shape\n",
        "class Shape:\n",
        "    def area(self):\n",
        "        pass\n",
        "\n",
        "    def perimeter(self):\n",
        "        pass\n",
        "\n",
        "# Rectangle class derived from Shape\n",
        "class Rectangle(Shape):\n",
        "    def __init__(self, length, width):\n",
        "        self.length = length\n",
        "        self.width = width\n",
        "\n",
        "    def area(self):\n",
        "        return self.length * self.width\n",
        "\n",
        "    def perimeter(self):\n",
        "        return 2 * (self.length + self.width)\n",
        "\n",
        "# Circle class derived from Shape\n",
        "import math\n",
        "class Circle(Shape):\n",
        "    def __init__(self, radius):\n",
        "        self.radius = radius\n",
        "\n",
        "    def area(self):\n",
        "        return math.pi * self.radius**2\n",
        "\n",
        "    def perimeter(self):\n",
        "        return 2 * math.pi * self.radius\n",
        "\n",
        "# Triangle class derived from Shape\n",
        "class Triangle(Shape):\n",
        "    def __init__(self, a, b, c):\n",
        "        self.a = a\n",
        "        self.b = b\n",
        "        self.c = c\n",
        "\n",
        "    def area(self):\n",
        "        # Using Heron's formula for area\n",
        "        s = (self.a + self.b + self.c) / 2\n",
        "        return math.sqrt(s * (s - self.a) * (s - self.b) * (s - self.c))\n",
        "\n",
        "    def perimeter(self):\n",
        "        return self.a + self.b + self.c\n",
        "\n",
        "# Create objects for each shape\n",
        "rect = Rectangle(5, 3)\n",
        "circle = Circle(7)\n",
        "triangle = Triangle(3, 4, 5)\n",
        "\n",
        "# Display the area and perimeter of each shape\n",
        "print(f\"Rectangle: Area = {rect.area()}, Perimeter = {rect.perimeter()}\")\n",
        "print(f\"Circle: Area = {circle.area()}, Perimeter = {circle.perimeter()}\")\n",
        "print(f\"Triangle: Area = {triangle.area()}, Perimeter = {triangle.perimeter()}\")\n"
      ],
      "metadata": {
        "colab": {
          "base_uri": "https://localhost:8080/",
          "height": 0
        },
        "id": "Hbp7H8DO1Swm",
        "outputId": "98ecaf13-f422-46a1-bf1b-2161480a3e4d"
      },
      "id": "Hbp7H8DO1Swm",
      "execution_count": 7,
      "outputs": [
        {
          "output_type": "stream",
          "name": "stdout",
          "text": [
            "Rectangle: Area = 15, Perimeter = 16\n",
            "Circle: Area = 153.93804002589985, Perimeter = 43.982297150257104\n",
            "Triangle: Area = 6.0, Perimeter = 12\n"
          ]
        }
      ]
    },
    {
      "cell_type": "markdown",
      "source": [
        "### Explanation:\n",
        "\n",
        "######Base Class (`Shape`):\n",
        "- **`class Shape:`**  \n",
        "  This is the base class that defines the methods `area()` and `perimeter()`. These methods are not implemented in the base class, but are expected to be overridden by subclasses.\n",
        "\n",
        "###### Rectangle Class:\n",
        "- **`class Rectangle(Shape):`**  \n",
        "  The `Rectangle` class inherits from `Shape`. It has a constructor that accepts the `length` and `width` of the rectangle.  \n",
        "  - **`area(self)`**: This method calculates the area of the rectangle using the formula `length * width`.\n",
        "  - **`perimeter(self)`**: This method calculates the perimeter of the rectangle using the formula `2 * (length + width)`.\n",
        "\n",
        "###### Circle Class:\n",
        "- **`class Circle(Shape):`**  \n",
        "  The `Circle` class inherits from `Shape`. It takes the `radius` as input.  \n",
        "  - **`area(self)`**: The area of a circle is calculated using the formula `π * radius^2` (using `math.pi` for the value of π).\n",
        "  - **`perimeter(self)`**: The perimeter (circumference) of the circle is calculated using the formula `2 * π * radius`.\n",
        "\n",
        "###### Triangle Class:\n",
        "- **`class Triangle(Shape):`**  \n",
        "  The `Triangle` class inherits from `Shape` and takes the lengths of the three sides (`a`, `b`, `c`) as input.  \n",
        "  - **`area(self)`**: The area of the triangle is calculated using **Heron’s formula**. First, the semi-perimeter `s` is calculated as `(a + b + c) / 2`. Then, the area is calculated using the formula:  \n",
        "    \\[\n",
        "    \\text{Area} = \\sqrt{s(s - a)(s - b)(s - c)}\n",
        "    \\]\n",
        "  - **`perimeter(self)`**: The perimeter of the triangle is the sum of the three sides: `a + b + c`.\n",
        "\n",
        "###### Example:\n",
        "1. **Rectangle** with `length = 5` and `width = 3`\n",
        "   - Area = `5 * 3 = 15`\n",
        "   - Perimeter = `2 * (5 + 3) = 16`\n",
        "\n",
        "2. **Circle** with `radius = 7`\n",
        "   - Area = `π * 7^2 = 153.938`\n",
        "   - Perimeter = `2 * π * 7 = 43.982`\n",
        "\n",
        "3. **Triangle** with sides `a = 3`, `b = 4`, and `c = 5`\n",
        "   - Area = `6` (using Heron's formula)\n",
        "   - Perimeter = `3 + 4 + 5 = 12`\n"
      ],
      "metadata": {
        "id": "1nEOOhx39E0D"
      },
      "id": "1nEOOhx39E0D"
    }
  ],
  "metadata": {
    "kernelspec": {
      "display_name": "Python 3",
      "name": "python3"
    },
    "language_info": {
      "name": "python"
    },
    "required_libs": [],
    "colab": {
      "provenance": [],
      "include_colab_link": true
    }
  },
  "nbformat": 4,
  "nbformat_minor": 5
}