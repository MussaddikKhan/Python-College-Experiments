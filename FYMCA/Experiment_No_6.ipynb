{
  "cells": [
    {
      "cell_type": "markdown",
      "metadata": {
        "id": "view-in-github",
        "colab_type": "text"
      },
      "source": [
        "<a href=\"https://colab.research.google.com/github/MussaddikKhan/Python-College-Experiments/blob/master/FYMCA/Experiment_No_6.ipynb\" target=\"_parent\"><img src=\"https://colab.research.google.com/assets/colab-badge.svg\" alt=\"Open In Colab\"/></a>"
      ]
    },
    {
      "cell_type": "markdown",
      "source": [
        "**Experiment 6 :**\n",
        "***` File Handeling  `***"
      ],
      "metadata": {
        "id": "V__GoVW6Lvak"
      },
      "id": "V__GoVW6Lvak"
    },
    {
      "cell_type": "markdown",
      "source": [
        "**1. Write to a File**\n",
        "\n",
        "> To create a file and write data into it\n"
      ],
      "metadata": {
        "id": "RJRrwNzjM8d4"
      },
      "id": "RJRrwNzjM8d4"
    },
    {
      "cell_type": "code",
      "source": [
        "# Open a file in write mode ('w')\n",
        "file = open(\"myfile.txt\", \"w\")  # Creates 'myfile.txt' if it doesn't exist\n",
        "file.write(\"Hello, this is my first file.\\n\")\n",
        "file.write(\"Python makes file handling easy!\\n\")\n",
        "file.close()  # Always close the file after writing\n",
        "print(\"File written successfully!\")\n"
      ],
      "metadata": {
        "colab": {
          "base_uri": "https://localhost:8080/"
        },
        "id": "AP5-eRMhLUQN",
        "outputId": "8d28f02b-20be-45e0-f567-3f829e508fdd"
      },
      "id": "AP5-eRMhLUQN",
      "execution_count": 39,
      "outputs": [
        {
          "output_type": "stream",
          "name": "stdout",
          "text": [
            "File written successfully!\n"
          ]
        }
      ]
    },
    {
      "cell_type": "markdown",
      "source": [
        "**2. Read from a File**\n",
        "\n",
        "\n",
        "> To read data from a file:\n",
        "\n"
      ],
      "metadata": {
        "id": "ixOEyVh3MPFZ"
      },
      "id": "ixOEyVh3MPFZ"
    },
    {
      "cell_type": "code",
      "source": [
        "# Open the file in read mode ('r')\n",
        "file = open(\"myfile.txt\", \"r\")\n",
        "content = file.read()  # Read the entire file content\n",
        "file.close()\n",
        "print(\"File Content:\")\n",
        "print(content)\n"
      ],
      "metadata": {
        "colab": {
          "base_uri": "https://localhost:8080/"
        },
        "id": "78Fc7CzyMYxJ",
        "outputId": "fe6d37c0-46e7-4b58-a406-2cbbb25ff7bb"
      },
      "id": "78Fc7CzyMYxJ",
      "execution_count": 40,
      "outputs": [
        {
          "output_type": "stream",
          "name": "stdout",
          "text": [
            "File Content:\n",
            "Hello, this is my first file.\n",
            "Python makes file handling easy!\n",
            "\n"
          ]
        }
      ]
    },
    {
      "cell_type": "markdown",
      "source": [
        "**3. Append to a File**\n",
        "\n",
        "\n",
        "> To add more data to an existing file:\n",
        "\n"
      ],
      "metadata": {
        "id": "zxiqvNYsNjlU"
      },
      "id": "zxiqvNYsNjlU"
    },
    {
      "cell_type": "code",
      "source": [
        "# Open the file in append mode ('a')\n",
        "file = open(\"myfile.txt\", \"a\")\n",
        "file.write(\"This is a new line added to the file.\\n\")\n",
        "file.close()\n",
        "print(\"Data appended successfully!\")\n"
      ],
      "metadata": {
        "colab": {
          "base_uri": "https://localhost:8080/"
        },
        "id": "Pq-LCFtrNpP4",
        "outputId": "7e3136c7-7089-494a-dfa6-03d70e6d6efe"
      },
      "id": "Pq-LCFtrNpP4",
      "execution_count": 41,
      "outputs": [
        {
          "output_type": "stream",
          "name": "stdout",
          "text": [
            "Data appended successfully!\n"
          ]
        }
      ]
    },
    {
      "cell_type": "markdown",
      "source": [
        "**4. Read Line by Line**\n",
        "\n",
        "\n",
        "> To read the file one line at a time:\n",
        "\n",
        "\n"
      ],
      "metadata": {
        "id": "cXr7yP0lNrxX"
      },
      "id": "cXr7yP0lNrxX"
    },
    {
      "cell_type": "code",
      "source": [
        "# Open the file in read mode\n",
        "file = open(\"myfile.txt\", \"r\")\n",
        "print(\"Reading line by line:\")\n",
        "for line in file:\n",
        "    print(line.strip())  # strip() removes extra spaces or newline characters\n",
        "file.close()\n"
      ],
      "metadata": {
        "colab": {
          "base_uri": "https://localhost:8080/"
        },
        "id": "GsIzruWbNwn-",
        "outputId": "9c8a60e8-06d0-4c9b-b461-7279268541eb"
      },
      "id": "GsIzruWbNwn-",
      "execution_count": 42,
      "outputs": [
        {
          "output_type": "stream",
          "name": "stdout",
          "text": [
            "Reading line by line:\n",
            "Hello, this is my first file.\n",
            "Python makes file handling easy!\n",
            "This is a new line added to the file.\n"
          ]
        }
      ]
    }
  ],
  "metadata": {
    "kernelspec": {
      "display_name": "Python 3",
      "name": "python3"
    },
    "language_info": {
      "name": "python"
    },
    "required_libs": [],
    "colab": {
      "provenance": [],
      "include_colab_link": true
    }
  },
  "nbformat": 4,
  "nbformat_minor": 5
}