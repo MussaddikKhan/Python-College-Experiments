{
  "cells": [
    {
      "cell_type": "markdown",
      "metadata": {
        "id": "view-in-github",
        "colab_type": "text"
      },
      "source": [
        "<a href=\"https://colab.research.google.com/github/MussaddikKhan/Python-College-Experiments/blob/master/FYMCA/Experiment_No_5.ipynb\" target=\"_parent\"><img src=\"https://colab.research.google.com/assets/colab-badge.svg\" alt=\"Open In Colab\"/></a>"
      ]
    },
    {
      "cell_type": "markdown",
      "source": [
        "**Experiment 5 :**\n",
        "***` Functions  `***"
      ],
      "metadata": {
        "id": "V__GoVW6Lvak"
      },
      "id": "V__GoVW6Lvak"
    },
    {
      "cell_type": "markdown",
      "source": [
        "**1. Basic Function**\n",
        "\n",
        "> A function is a block of reusable code.\n"
      ],
      "metadata": {
        "id": "RJRrwNzjM8d4"
      },
      "id": "RJRrwNzjM8d4"
    },
    {
      "cell_type": "code",
      "source": [
        "# Define a function\n",
        "def greet():\n",
        "    print(\"Hello, welcome to Python programming!\")\n",
        "\n",
        "# Call the function\n",
        "greet()\n"
      ],
      "metadata": {
        "colab": {
          "base_uri": "https://localhost:8080/"
        },
        "id": "AP5-eRMhLUQN",
        "outputId": "06d9320c-6da7-4c31-f1a7-861d523470d6"
      },
      "id": "AP5-eRMhLUQN",
      "execution_count": 23,
      "outputs": [
        {
          "output_type": "stream",
          "name": "stdout",
          "text": [
            "Hello, welcome to Python programming!\n"
          ]
        }
      ]
    },
    {
      "cell_type": "markdown",
      "source": [
        "**2. Function with Parameters**\n",
        "\n",
        "> Functions can take inputs (parameters) to perform specific tasks.\n"
      ],
      "metadata": {
        "id": "ixOEyVh3MPFZ"
      },
      "id": "ixOEyVh3MPFZ"
    },
    {
      "cell_type": "code",
      "source": [
        "# Function with parameters\n",
        "def greet_user(name):\n",
        "    print(f\"Hello, {name}! Welcome to Python.\")\n",
        "\n",
        "# Call the function with an argument\n",
        "greet_user(\"Alice\")"
      ],
      "metadata": {
        "colab": {
          "base_uri": "https://localhost:8080/"
        },
        "id": "78Fc7CzyMYxJ",
        "outputId": "95e92370-28f5-4e5c-d0c0-45f3adbb4883"
      },
      "id": "78Fc7CzyMYxJ",
      "execution_count": 24,
      "outputs": [
        {
          "output_type": "stream",
          "name": "stdout",
          "text": [
            "Hello, Alice! Welcome to Python.\n"
          ]
        }
      ]
    },
    {
      "cell_type": "markdown",
      "source": [
        "**3. Function with Return Value**\n",
        "\n",
        "> A function can return a result."
      ],
      "metadata": {
        "id": "zxiqvNYsNjlU"
      },
      "id": "zxiqvNYsNjlU"
    },
    {
      "cell_type": "code",
      "source": [
        "# Function with return value\n",
        "def add_numbers(a, b):\n",
        "    return a + b\n",
        "\n",
        "# Call the function and store the result\n",
        "result = add_numbers(10, 5)\n",
        "print(\"Sum:\", result)\n"
      ],
      "metadata": {
        "colab": {
          "base_uri": "https://localhost:8080/"
        },
        "id": "Pq-LCFtrNpP4",
        "outputId": "569bb384-3eec-40c9-8be1-bf9ce9036b4e"
      },
      "id": "Pq-LCFtrNpP4",
      "execution_count": 25,
      "outputs": [
        {
          "output_type": "stream",
          "name": "stdout",
          "text": [
            "Sum: 15\n"
          ]
        }
      ]
    },
    {
      "cell_type": "markdown",
      "source": [
        "**4. Default Parameters**\n",
        ">Parameters can have default values.\n"
      ],
      "metadata": {
        "id": "cXr7yP0lNrxX"
      },
      "id": "cXr7yP0lNrxX"
    },
    {
      "cell_type": "code",
      "source": [
        "# Function with default parameter\n",
        "def greet_user(name=\"Guest\"):\n",
        "    print(f\"Hello, {name}! Welcome.\")\n",
        "\n",
        "# Call with and without an argument\n",
        "greet_user(\"Bob\")\n",
        "greet_user()\n"
      ],
      "metadata": {
        "colab": {
          "base_uri": "https://localhost:8080/"
        },
        "id": "GsIzruWbNwn-",
        "outputId": "6f52880b-e230-4ead-b1cd-b95bb627c60b"
      },
      "id": "GsIzruWbNwn-",
      "execution_count": 26,
      "outputs": [
        {
          "output_type": "stream",
          "name": "stdout",
          "text": [
            "Hello, Bob! Welcome.\n",
            "Hello, Guest! Welcome.\n"
          ]
        }
      ]
    },
    {
      "cell_type": "markdown",
      "source": [
        "**5. Keyword Arguments**\n",
        "\n",
        "> Pass arguments using keywords for clarity.\n"
      ],
      "metadata": {
        "id": "Nl2lhQ0dX6Wo"
      },
      "id": "Nl2lhQ0dX6Wo"
    },
    {
      "cell_type": "code",
      "source": [
        "# Function with keyword arguments\n",
        "def display_info(name, age):\n",
        "    print(f\"Name: {name}, Age: {age}\")\n",
        "\n",
        "# Call using keyword arguments\n",
        "display_info(age=25, name=\"John\")\n"
      ],
      "metadata": {
        "id": "euwXrNiYYAgZ",
        "outputId": "4652cfa3-f64e-400e-e709-2bf54887c8e2",
        "colab": {
          "base_uri": "https://localhost:8080/"
        }
      },
      "id": "euwXrNiYYAgZ",
      "execution_count": 27,
      "outputs": [
        {
          "output_type": "stream",
          "name": "stdout",
          "text": [
            "Name: John, Age: 25\n"
          ]
        }
      ]
    },
    {
      "cell_type": "markdown",
      "source": [
        "**6. Arbitrary Arguments (*args)**\n",
        "\n",
        "\n",
        "> Pass a variable number of arguments.\n",
        "\n"
      ],
      "metadata": {
        "id": "niXj3unaYEUw"
      },
      "id": "niXj3unaYEUw"
    },
    {
      "cell_type": "code",
      "source": [
        "# Function with *args\n",
        "def print_numbers(*numbers):\n",
        "    for num in numbers:\n",
        "        print(num)\n",
        "\n",
        "# Call with multiple arguments\n",
        "print_numbers(1, 2, 3, 4, 5)\n"
      ],
      "metadata": {
        "id": "VYeedXnnYNHh",
        "outputId": "00d7c993-4257-4c9a-ddab-e00950583603",
        "colab": {
          "base_uri": "https://localhost:8080/"
        }
      },
      "id": "VYeedXnnYNHh",
      "execution_count": 28,
      "outputs": [
        {
          "output_type": "stream",
          "name": "stdout",
          "text": [
            "1\n",
            "2\n",
            "3\n",
            "4\n",
            "5\n"
          ]
        }
      ]
    },
    {
      "cell_type": "markdown",
      "source": [
        "**7. Arbitrary Keyword Arguments (\\*\\*kwargs)**\n",
        "\n",
        "\n",
        "> Pass a variable number of key-value pairs.\n",
        "\n"
      ],
      "metadata": {
        "id": "aNYi7kD9YPos"
      },
      "id": "aNYi7kD9YPos"
    },
    {
      "cell_type": "code",
      "source": [
        "# Function with **kwargs\n",
        "def display_student_info(**info):\n",
        "    for key, value in info.items():\n",
        "        print(f\"{key}: {value}\")\n",
        "\n",
        "# Call with multiple key-value pairs\n",
        "display_student_info(name=\"Alice\", age=22, grade=\"A\")\n"
      ],
      "metadata": {
        "id": "OBhGPiLlYZEF",
        "outputId": "0ee8155e-9792-4c4a-f3e1-5c619a6fa9e2",
        "colab": {
          "base_uri": "https://localhost:8080/"
        }
      },
      "id": "OBhGPiLlYZEF",
      "execution_count": 29,
      "outputs": [
        {
          "output_type": "stream",
          "name": "stdout",
          "text": [
            "name: Alice\n",
            "age: 22\n",
            "grade: A\n"
          ]
        }
      ]
    }
  ],
  "metadata": {
    "kernelspec": {
      "display_name": "Python 3",
      "name": "python3"
    },
    "language_info": {
      "name": "python"
    },
    "required_libs": [],
    "colab": {
      "provenance": [],
      "include_colab_link": true
    }
  },
  "nbformat": 4,
  "nbformat_minor": 5
}