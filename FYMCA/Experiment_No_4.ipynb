{
  "cells": [
    {
      "cell_type": "markdown",
      "source": [
        "**Experiment 4 :**\n",
        "***` Collections (List, Tuple, Set and Dictionary)  `***"
      ],
      "metadata": {
        "id": "V__GoVW6Lvak"
      },
      "id": "V__GoVW6Lvak"
    },
    {
      "cell_type": "markdown",
      "source": [
        "**1. List**\n",
        "\n",
        "> A list is an ordered, mutable collection that can contain duplicate elements\n"
      ],
      "metadata": {
        "id": "RJRrwNzjM8d4"
      },
      "id": "RJRrwNzjM8d4"
    },
    {
      "cell_type": "code",
      "source": [
        "# Creating a list\n",
        "fruits = [\"apple\", \"banana\", \"cherry\"]\n",
        "\n",
        "# Access elements\n",
        "print(\"First fruit:\", fruits[0])\n",
        "\n",
        "# Add an element\n",
        "fruits.append(\"orange\")\n",
        "print(\"Updated List:\", fruits)\n",
        "\n",
        "# Remove an element\n",
        "fruits.remove(\"banana\")\n",
        "print(\"After Removing 'banana':\", fruits)\n"
      ],
      "metadata": {
        "colab": {
          "base_uri": "https://localhost:8080/"
        },
        "id": "AP5-eRMhLUQN",
        "outputId": "cbf59e06-a81a-4539-b277-929108be2631"
      },
      "id": "AP5-eRMhLUQN",
      "execution_count": 19,
      "outputs": [
        {
          "output_type": "stream",
          "name": "stdout",
          "text": [
            "First fruit: apple\n",
            "Updated List: ['apple', 'banana', 'cherry', 'orange']\n",
            "After Removing 'banana': ['apple', 'cherry', 'orange']\n"
          ]
        }
      ]
    },
    {
      "cell_type": "markdown",
      "source": [
        "**2. Tuple**\n",
        "> A tuple is an ordered, immutable collection."
      ],
      "metadata": {
        "id": "ixOEyVh3MPFZ"
      },
      "id": "ixOEyVh3MPFZ"
    },
    {
      "cell_type": "code",
      "source": [
        "# Creating a tuple\n",
        "dimensions = (1920, 1080)\n",
        "\n",
        "# Access elements\n",
        "print(\"Width:\", dimensions[0])\n",
        "print(\"Height:\", dimensions[1])\n",
        "\n",
        "# Tuples are immutable, so you cannot modify them.\n",
        "# But you can count or find an index\n",
        "print(\"Count of 1920:\", dimensions.count(1920))\n",
        "print(\"Index of 1080:\", dimensions.index(1080))\n"
      ],
      "metadata": {
        "colab": {
          "base_uri": "https://localhost:8080/"
        },
        "id": "78Fc7CzyMYxJ",
        "outputId": "69f5f567-1db6-4944-f487-7d21a370cb7f"
      },
      "id": "78Fc7CzyMYxJ",
      "execution_count": 20,
      "outputs": [
        {
          "output_type": "stream",
          "name": "stdout",
          "text": [
            "Width: 1920\n",
            "Height: 1080\n",
            "Count of 1920: 1\n",
            "Index of 1080: 1\n"
          ]
        }
      ]
    },
    {
      "cell_type": "markdown",
      "source": [
        "**3. Set**\n",
        "\n",
        "\n",
        "> A set is an unordered, mutable collection that does not allow duplicate elements.\n",
        "\n"
      ],
      "metadata": {
        "id": "zxiqvNYsNjlU"
      },
      "id": "zxiqvNYsNjlU"
    },
    {
      "cell_type": "code",
      "source": [
        "# Creating a set\n",
        "unique_numbers = {1, 2, 3, 2, 1}\n",
        "\n",
        "# Display the set (duplicates are removed)\n",
        "print(\"Set:\", unique_numbers)\n",
        "\n",
        "# Add an element\n",
        "unique_numbers.add(4)\n",
        "print(\"After Adding 4:\", unique_numbers)\n",
        "\n",
        "# Remove an element\n",
        "unique_numbers.discard(2)  # Use discard() to avoid errors if the element doesn't exist\n",
        "print(\"After Removing 2:\", unique_numbers)\n"
      ],
      "metadata": {
        "colab": {
          "base_uri": "https://localhost:8080/"
        },
        "id": "Pq-LCFtrNpP4",
        "outputId": "0a186a84-138c-4258-b48a-407e9d6a539d"
      },
      "id": "Pq-LCFtrNpP4",
      "execution_count": 21,
      "outputs": [
        {
          "output_type": "stream",
          "name": "stdout",
          "text": [
            "Set: {1, 2, 3}\n",
            "After Adding 4: {1, 2, 3, 4}\n",
            "After Removing 2: {1, 3, 4}\n"
          ]
        }
      ]
    },
    {
      "cell_type": "markdown",
      "source": [
        "**4. Dictionary**\n",
        "\n",
        "> A dictionary is an unordered collection of key-value pairs."
      ],
      "metadata": {
        "id": "cXr7yP0lNrxX"
      },
      "id": "cXr7yP0lNrxX"
    },
    {
      "cell_type": "code",
      "source": [
        "# Creating a dictionary\n",
        "student = {\"name\": \"John\", \"age\": 20, \"grade\": \"A\"}\n",
        "\n",
        "# Access values\n",
        "print(\"Student Name:\", student[\"name\"])\n",
        "\n",
        "# Update a value\n",
        "student[\"age\"] = 21\n",
        "print(\"Updated Dictionary:\", student)\n",
        "\n",
        "# Add a new key-value pair\n",
        "student[\"subject\"] = \"Math\"\n",
        "print(\"After Adding 'subject':\", student)\n",
        "\n",
        "# Remove a key-value pair\n",
        "del student[\"grade\"]\n",
        "print(\"After Removing 'grade':\", student)\n"
      ],
      "metadata": {
        "colab": {
          "base_uri": "https://localhost:8080/"
        },
        "id": "GsIzruWbNwn-",
        "outputId": "10d2918d-f00b-463e-9f31-e4d63731331b"
      },
      "id": "GsIzruWbNwn-",
      "execution_count": 22,
      "outputs": [
        {
          "output_type": "stream",
          "name": "stdout",
          "text": [
            "Student Name: John\n",
            "Updated Dictionary: {'name': 'John', 'age': 21, 'grade': 'A'}\n",
            "After Adding 'subject': {'name': 'John', 'age': 21, 'grade': 'A', 'subject': 'Math'}\n",
            "After Removing 'grade': {'name': 'John', 'age': 21, 'subject': 'Math'}\n"
          ]
        }
      ]
    }
  ],
  "metadata": {
    "kernelspec": {
      "display_name": "Python 3",
      "name": "python3"
    },
    "language_info": {
      "name": "python"
    },
    "required_libs": [],
    "colab": {
      "provenance": []
    }
  },
  "nbformat": 4,
  "nbformat_minor": 5
}